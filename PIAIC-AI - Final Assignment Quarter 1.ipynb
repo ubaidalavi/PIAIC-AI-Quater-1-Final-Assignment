{
 "cells": [
  {
   "cell_type": "code",
   "execution_count": 1,
   "metadata": {},
   "outputs": [],
   "source": [
    "import math\n",
    "from datetime import datetime\n",
    "#1.Calculate Area of Cirlce:\n",
    "\n",
    "def areaOfCircle():\n",
    "    radius = int(input(\"Please enter radius of the circle: \"))\n",
    "    area_of_circle = math.pi*radius**2\n",
    "    print(\"The area of circle with radius {} is {}\".format(radius,area_of_circle))"
   ]
  },
  {
   "cell_type": "code",
   "execution_count": 2,
   "metadata": {},
   "outputs": [
    {
     "name": "stdout",
     "output_type": "stream",
     "text": [
      "Please enter radius of the circle: 12\n",
      "The area of circle with radius 12 is 452.3893421169302\n"
     ]
    }
   ],
   "source": [
    "areaOfCircle()"
   ]
  },
  {
   "cell_type": "code",
   "execution_count": 3,
   "metadata": {},
   "outputs": [],
   "source": [
    "#2.Check if number is positive,negative or zero\n",
    "\n",
    "def checkNumber():\n",
    "    num = float(input(\"Please enter a number to check: \"))\n",
    "    if num < 0:\n",
    "        print (\"The number entered is negative.\")\n",
    "    elif num > 0:\n",
    "        print (\"The number entered is positive.\")\n",
    "    else:\n",
    "        print (\"The number entered is zero.\")"
   ]
  },
  {
   "cell_type": "code",
   "execution_count": 4,
   "metadata": {},
   "outputs": [
    {
     "name": "stdout",
     "output_type": "stream",
     "text": [
      "Please enter a number to check: 11\n",
      "The number entered is positive.\n"
     ]
    }
   ],
   "source": [
    "checkNumber()"
   ]
  },
  {
   "cell_type": "code",
   "execution_count": 5,
   "metadata": {},
   "outputs": [],
   "source": [
    "#3.Divisibility Check of two numbers\n",
    "\n",
    "def divCheckNumber():\n",
    "    num1 = int(input('Please Enter Numerator: '))\n",
    "    num2 = int(input('Please Entuer denominator: '))\n",
    "    if (num1%num2) == 0:\n",
    "        print(\"{} is completely divisible by {}.\".format(num1,num2))\n",
    "    else:\n",
    "        print(\"{} is not completely divisible by {}.\".format(num1,num2))"
   ]
  },
  {
   "cell_type": "code",
   "execution_count": 6,
   "metadata": {},
   "outputs": [
    {
     "name": "stdout",
     "output_type": "stream",
     "text": [
      "Please Enter Numerator: 12\n",
      "Please Entuer denominator: 22\n",
      "12 is not completely divisible by 22.\n"
     ]
    }
   ],
   "source": [
    "divCheckNumber()"
   ]
  },
  {
   "cell_type": "code",
   "execution_count": 7,
   "metadata": {},
   "outputs": [],
   "source": [
    "#4.Days Calculator\n",
    "\n",
    "def dayDifference():\n",
    "    date1 = input('Please enter date 1 in (DD/MM/YYYY) format: ')\n",
    "    date2 = input('Please enter date 2 in (DD/MM/YYYY) format: ')\n",
    "\n",
    "    d1 = datetime.strptime(date1, '%d/%m/%Y')\n",
    "    d2 = datetime.strptime(date2, '%d/%m/%Y')\n",
    "\n",
    "    print(\"The Difference between the two dates is of {} days.\".format((d2-d1).days))"
   ]
  },
  {
   "cell_type": "code",
   "execution_count": 8,
   "metadata": {},
   "outputs": [
    {
     "name": "stdout",
     "output_type": "stream",
     "text": [
      "Please enter date 1 in (DD/MM/YYYY) format: 27/11/1984\n",
      "Please enter date 2 in (DD/MM/YYYY) format: 1/11/2011\n",
      "The Difference between the two dates is of 9835 days.\n"
     ]
    }
   ],
   "source": [
    "dayDifference()"
   ]
  },
  {
   "cell_type": "code",
   "execution_count": 9,
   "metadata": {},
   "outputs": [],
   "source": [
    "#5.Calculate Volume of a sphere\n",
    "\n",
    "def volumeOfSphere():\n",
    "    \n",
    "    radius = int(input(\"Please enter radius of the sphere: \"))\n",
    "    \n",
    "    volume_of_sphere = 4/3*(math.pi*radius**3)\n",
    "    \n",
    "    print(\"The volume of sphere with radius {} is {}\".format(radius,volume_of_sphere))"
   ]
  },
  {
   "cell_type": "code",
   "execution_count": 10,
   "metadata": {},
   "outputs": [
    {
     "name": "stdout",
     "output_type": "stream",
     "text": [
      "Please enter radius of the sphere: 22\n",
      "The volume of sphere with radius 22 is 44602.23810056548\n"
     ]
    }
   ],
   "source": [
    "volumeOfSphere()"
   ]
  },
  {
   "cell_type": "code",
   "execution_count": 11,
   "metadata": {},
   "outputs": [],
   "source": [
    "#6.Copy string n times\n",
    "\n",
    "def copyText():\n",
    "    \n",
    "    text = input('Enter the text: ')\n",
    "    number_copies = int(input('How many copies do you want? '))\n",
    "    string_copies = ''\n",
    "    \n",
    "    i = 0\n",
    "    while i < number_copies:\n",
    "        string_copies += text\n",
    "        i+=1\n",
    "    \n",
    "    print(\"The text {} with {} copies is {}\".format(text,number_copies,string_copies))"
   ]
  },
  {
   "cell_type": "code",
   "execution_count": 12,
   "metadata": {},
   "outputs": [
    {
     "name": "stdout",
     "output_type": "stream",
     "text": [
      "Enter the text: hellp\n",
      "How many copies do you want? 2\n",
      "The text hellp with 2 copies is hellphellp\n"
     ]
    }
   ],
   "source": [
    "copyText()"
   ]
  },
  {
   "cell_type": "code",
   "execution_count": 13,
   "metadata": {},
   "outputs": [],
   "source": [
    "#7.Even or Odd Number Check\n",
    "\n",
    "def evenOrOddCheck():\n",
    "    \n",
    "    num = int(input(\"Please enter a number to check if it is even or odd: \"))\n",
    "    \n",
    "    if num%2 == 0:\n",
    "        print(\"The number {} is an Even number.\".format(num))\n",
    "    \n",
    "    else:\n",
    "        print(\"The number {} is an Odd number.\".format(num))"
   ]
  },
  {
   "cell_type": "code",
   "execution_count": 14,
   "metadata": {},
   "outputs": [
    {
     "name": "stdout",
     "output_type": "stream",
     "text": [
      "Please enter a number to check if it is even or odd: 44\n",
      "The number 44 is an Even number.\n"
     ]
    }
   ],
   "source": [
    "evenOrOddCheck()"
   ]
  },
  {
   "cell_type": "code",
   "execution_count": 15,
   "metadata": {},
   "outputs": [],
   "source": [
    "#8.Vowel Tester\n",
    "\n",
    "def voweltester():\n",
    "    \n",
    "    alphabet = input(\"Please enter an Alphabet to check if it is a vowel or not: \")\n",
    "    \n",
    "    if alphabet.upper() in ('A', 'E', 'I', 'O', 'U'):\n",
    "        print('The Alphabet {} is a Vowel'.format(alphabet))\n",
    "    \n",
    "    else:\n",
    "        print('The Alphabet {} is not a Vowel'.format(alphabet))    "
   ]
  },
  {
   "cell_type": "code",
   "execution_count": 16,
   "metadata": {},
   "outputs": [
    {
     "name": "stdout",
     "output_type": "stream",
     "text": [
      "Please enter an Alphabet to check if it is a vowel or not: i\n",
      "The Alphabet i is a Vowel\n"
     ]
    }
   ],
   "source": [
    "voweltester()"
   ]
  },
  {
   "cell_type": "code",
   "execution_count": 17,
   "metadata": {},
   "outputs": [],
   "source": [
    "#9. Area of Triangle\n",
    "\n",
    "def triangleArea():\n",
    "    \n",
    "    tri_base = int(input(\"Please enter the Base of triangle: \"))\n",
    "    tri_height = int(input(\"Please enter the Height of triangle: \"))\n",
    "    \n",
    "    area_of_triangle = (tri_base*tri_height)*0.5\n",
    "    \n",
    "    print(\"The area of Triangle with the Base of {} and Height of {} is {}\".format(tri_base,tri_height,area_of_triangle))"
   ]
  },
  {
   "cell_type": "code",
   "execution_count": 18,
   "metadata": {},
   "outputs": [
    {
     "name": "stdout",
     "output_type": "stream",
     "text": [
      "Please enter the Base of triangle: 33\n",
      "Please enter the Height of triangle: 21\n",
      "The area of Triangle with the Base of 33 and Height of 21 is 346.5\n"
     ]
    }
   ],
   "source": [
    "triangleArea()"
   ]
  },
  {
   "cell_type": "code",
   "execution_count": 19,
   "metadata": {},
   "outputs": [],
   "source": [
    "#10. Calculate Interest\n",
    "\n",
    "def calInterest():\n",
    "    \n",
    "    principle = int(input(\"Principle Amount: \"))\n",
    "    intRate = float(input(\"Rate of Interest: \"))\n",
    "    year = int(input(\"Years of investment: \"))\n",
    "\n",
    "    amount = principle\n",
    "    \n",
    "    for x in range(year):\n",
    "        amount += amount*intRate\n",
    "        \n",
    "    print(\"The Amount of {} will become {} after {} years of investment if the rate of interest is {}\".format(principle,amount,year,intRate))  "
   ]
  },
  {
   "cell_type": "code",
   "execution_count": 20,
   "metadata": {},
   "outputs": [
    {
     "name": "stdout",
     "output_type": "stream",
     "text": [
      "Principle Amount: 10002\n",
      "Rate of Interest: .2\n",
      "Years of investment: 4\n",
      "The Amount of 10002 will become 20740.1472 after 4 years of investment if the rate of interest is 0.2\n"
     ]
    }
   ],
   "source": [
    "calInterest()"
   ]
  },
  {
   "cell_type": "code",
   "execution_count": 21,
   "metadata": {},
   "outputs": [],
   "source": [
    "#11. Distance between two points\n",
    "\n",
    "def calDistance():\n",
    "    \n",
    "    x1 = int(input(\"Enter the value of X1: \"))\n",
    "    y1 = int(input(\"Enter the value of Y1: \"))\n",
    "    x2 = int(input(\"Enter the value of X2: \"))\n",
    "    y2 = int(input(\"Enter the value of Y2: \"))\n",
    "    \n",
    "    distance= math.sqrt(((y2-y1)**2) + ((x2-x1)**2))\n",
    "    \n",
    "    print(\"The distance between points ({},{}) and ({},{}) is {}\".format(x1,y1,x2,y2,distance))"
   ]
  },
  {
   "cell_type": "code",
   "execution_count": 22,
   "metadata": {},
   "outputs": [
    {
     "name": "stdout",
     "output_type": "stream",
     "text": [
      "Enter the value of X1: 1\n",
      "Enter the value of Y1: 2\n",
      "Enter the value of X2: 3\n",
      "Enter the value of Y2: 4\n",
      "The distance between points (1,2) and (3,4) is 2.8284271247461903\n"
     ]
    }
   ],
   "source": [
    "calDistance()"
   ]
  },
  {
   "cell_type": "code",
   "execution_count": 23,
   "metadata": {},
   "outputs": [],
   "source": [
    "#12. Feet to Centimeter Converter\n",
    "\n",
    "def feet_centimeter():\n",
    "    \n",
    "    feet = float(input(\"Enter distance in feets: \"))\n",
    "    \n",
    "    cent = feet*30.48\n",
    "    \n",
    "    print(\"{} feet is equals to {} centimeters.\".format(feet,cent))"
   ]
  },
  {
   "cell_type": "code",
   "execution_count": 24,
   "metadata": {},
   "outputs": [
    {
     "name": "stdout",
     "output_type": "stream",
     "text": [
      "Enter distance in feets: 12\n",
      "12.0 feet is equals to 365.76 centimeters.\n"
     ]
    }
   ],
   "source": [
    "feet_centimeter()"
   ]
  },
  {
   "cell_type": "code",
   "execution_count": 25,
   "metadata": {},
   "outputs": [],
   "source": [
    "#13. BMI Calculator\n",
    "\n",
    "def bmiCalc():\n",
    "    \n",
    "    height = float(input(\"Enter your Height in centimeters: \"))\n",
    "    weight = float(input(\"Enter your Weight in Kilograms: \"))\n",
    "    \n",
    "    bmi = weight/(height/100)**2\n",
    "    \n",
    "    print(\"Your BMI is {}\".format(round(bmi,1)))"
   ]
  },
  {
   "cell_type": "code",
   "execution_count": 26,
   "metadata": {},
   "outputs": [
    {
     "name": "stdout",
     "output_type": "stream",
     "text": [
      "Enter your Height in centimeters: 22\n",
      "Enter your Weight in Kilograms: 45\n",
      "Your BMI is 929.8\n"
     ]
    }
   ],
   "source": [
    "bmiCalc()"
   ]
  },
  {
   "cell_type": "code",
   "execution_count": 27,
   "metadata": {},
   "outputs": [],
   "source": [
    "#14. Sum of n Positive Integers\n",
    "\n",
    "def positiveSum():\n",
    "    \n",
    "    num = int(input(\"Enter a positive integer: \"))\n",
    "    sum = 0\n",
    "    for x in range(num):\n",
    "        sum += x+1\n",
    "    print(\"The sum of all positive integers till {} is {}\".format(num,sum)) "
   ]
  },
  {
   "cell_type": "code",
   "execution_count": 28,
   "metadata": {},
   "outputs": [
    {
     "name": "stdout",
     "output_type": "stream",
     "text": [
      "Enter a positive integer: 2\n",
      "The sum of all positive integers till 2 is 3\n"
     ]
    }
   ],
   "source": [
    "positiveSum()"
   ]
  },
  {
   "cell_type": "code",
   "execution_count": 29,
   "metadata": {},
   "outputs": [],
   "source": [
    "#15. Digits Sum of a Number\n",
    "\n",
    "def sumOfNum():\n",
    "    \n",
    "    for i in range(1):\n",
    "        digit_sum = 0\n",
    "        digits = int(input(\"Please enter a number of digits to get their digits sum: \"))\n",
    "   \n",
    "    while digits > 0:\n",
    "        num = digits%10\n",
    "        digit_sum += num\n",
    "        digits //= 10\n",
    "    print(\"The sum of digits is: {}\".format(digit_sum))"
   ]
  },
  {
   "cell_type": "code",
   "execution_count": 30,
   "metadata": {},
   "outputs": [
    {
     "name": "stdout",
     "output_type": "stream",
     "text": [
      "Please enter a number of digits to get their digits sum: 33\n",
      "The sum of digits is: 6\n"
     ]
    }
   ],
   "source": [
    "sumOfNum()"
   ]
  },
  {
   "cell_type": "code",
   "execution_count": 31,
   "metadata": {},
   "outputs": [],
   "source": [
    "#16. Decimal to Binary\n",
    "\n",
    "def dec_Bin_Convo():\n",
    "\n",
    "    dec = int(input(\"Please enter a Decimal Number: \"))\n",
    "    num = dec\n",
    "\n",
    "    binaryForm = \"\"\n",
    "\n",
    "    finalResult = \"\"\n",
    "\n",
    "    for x in range(dec):\n",
    "\n",
    "        binaryForm += str(num%2)\n",
    "        num = num//2\n",
    "        if num == 0:\n",
    "            break\n",
    "    \n",
    "    for x in reversed(binaryForm):\n",
    "        finalResult += x\n",
    "\n",
    "    print(\"The Binary representation of {} is {}\".format(dec,finalResult))"
   ]
  },
  {
   "cell_type": "code",
   "execution_count": 32,
   "metadata": {},
   "outputs": [
    {
     "name": "stdout",
     "output_type": "stream",
     "text": [
      "Please enter a Decimal Number: 45\n",
      "The Binary representation of 45 is 101101\n"
     ]
    }
   ],
   "source": [
    "dec_Bin_Convo()"
   ]
  },
  {
   "cell_type": "code",
   "execution_count": 33,
   "metadata": {},
   "outputs": [],
   "source": [
    "#17. Binary to Decimal\n",
    "\n",
    "def bin_Dec_Convo():\n",
    "    \n",
    "    bin_num = input(\"Please enter a Binary number: \")\n",
    "    dec_conv = int(bin_num,2)\n",
    "    print(\"The Decimal representation of {} is {}\".format(bin_num,dec_conv))"
   ]
  },
  {
   "cell_type": "code",
   "execution_count": 34,
   "metadata": {},
   "outputs": [
    {
     "name": "stdout",
     "output_type": "stream",
     "text": [
      "Please enter a Binary number: 101101\n",
      "The Decimal representation of 101101 is 45\n"
     ]
    }
   ],
   "source": [
    "bin_Dec_Convo()"
   ]
  },
  {
   "cell_type": "code",
   "execution_count": 35,
   "metadata": {},
   "outputs": [],
   "source": [
    "#18. Vowel and Consonants Counter\n",
    "\n",
    "def checkVowel():\n",
    "\n",
    "    word = input(\"Please enter a word to check number of Vowels and Consonants: \")\n",
    "    word = word.upper()\n",
    "    vowels = [\"A\",\"E\",\"I\",\"O\",\"U\"]\n",
    "\n",
    "    count = 0\n",
    "\n",
    "    for char in word:\n",
    "        for vowel in vowels:\n",
    "            if char == vowel:\n",
    "                count += 1\n",
    "                break\n",
    "                \n",
    "    print(\"The number of Vowels in the word {} is {} and the number of Consonants is {}\".format(word,count,(len(word) - count)))   "
   ]
  },
  {
   "cell_type": "code",
   "execution_count": 36,
   "metadata": {},
   "outputs": [
    {
     "name": "stdout",
     "output_type": "stream",
     "text": [
      "Please enter a word to check number of Vowels and Consonants: piaic\n",
      "The number of Vowels in the word PIAIC is 3 and the number of Consonants is 2\n"
     ]
    }
   ],
   "source": [
    "checkVowel()"
   ]
  },
  {
   "cell_type": "code",
   "execution_count": 37,
   "metadata": {},
   "outputs": [],
   "source": [
    "#19. Palindrome checker\n",
    "\n",
    "def palindrome():\n",
    "\n",
    "    wordCheck = input(\"Enter a word to check if it is a Palindrome or not: \")\n",
    "\n",
    "    wordCheck = wordCheck.upper()\n",
    "    temp = \"\"\n",
    "\n",
    "    for y in reversed(wordCheck):\n",
    "\n",
    "        temp += y\n",
    "    \n",
    "    if temp == wordCheck:\n",
    "        print(\"The word {} is a Palandrome\".format(wordCheck))\n",
    "    else:\n",
    "        print(\"The word {} is not a Palandrome\".format(wordCheck))\n",
    "   "
   ]
  },
  {
   "cell_type": "code",
   "execution_count": 38,
   "metadata": {},
   "outputs": [
    {
     "name": "stdout",
     "output_type": "stream",
     "text": [
      "Enter a word to check if it is a Palindrome or not: NooN\n",
      "The word NOON is a Palandrome\n"
     ]
    }
   ],
   "source": [
    "palindrome()"
   ]
  },
  {
   "cell_type": "code",
   "execution_count": 39,
   "metadata": {},
   "outputs": [],
   "source": [
    "#20. Count of Alphabets, Numbers and Special Characters\n",
    "\n",
    "def char_count():\n",
    "    \n",
    "    statement = input(\"Please Enter a statement for character count: \")\n",
    "    num = alp = sc = s = 0\n",
    "    for char in statement:\n",
    "        if char.isdigit():\n",
    "            num = num + 1\n",
    "        elif char.isalpha():\n",
    "            alp = alp + 1\n",
    "        elif char.isspace():\n",
    "            s = s + 1\n",
    "        else:\n",
    "            sc = sc + 1\n",
    "\n",
    "    print(\"This statement consists of {} Alphabets.\".format(alp))\n",
    "    print(\"This statement consists of {} Numbers.\".format(num))\n",
    "    print(\"This statement consists of {} Special Charcters.\".format(sc))\n",
    "    print(\"This statement consists of {} Spaces.\".format(s))"
   ]
  },
  {
   "cell_type": "code",
   "execution_count": 40,
   "metadata": {},
   "outputs": [
    {
     "name": "stdout",
     "output_type": "stream",
     "text": [
      "Please Enter a statement for character count: AI 4 Everyone!!\n",
      "This statement consists of 10 Alphabets.\n",
      "This statement consists of 1 Numbers.\n",
      "This statement consists of 2 Special Charcters.\n",
      "This statement consists of 2 Spaces.\n"
     ]
    }
   ],
   "source": [
    "char_count()"
   ]
  },
  {
   "cell_type": "code",
   "execution_count": 41,
   "metadata": {},
   "outputs": [],
   "source": [
    "#21. Pattern # 1\n",
    "def makePattern1():\n",
    "\n",
    "    length = input(\"Length: \")\n",
    "\n",
    "    temp = \"\"\n",
    "    temp2 = \"\"\n",
    "\n",
    "    for x in range(1, int(length)):\n",
    "        temp += str(x)\n",
    "        print(temp)\n",
    "\n",
    "    for x in range(1, int(length)):\n",
    "        temp2 = temp[:int(length)-x]\n",
    "        print(temp2)"
   ]
  },
  {
   "cell_type": "code",
   "execution_count": 47,
   "metadata": {},
   "outputs": [
    {
     "name": "stdout",
     "output_type": "stream",
     "text": [
      "Length: 12\n",
      "1\n",
      "12\n",
      "123\n",
      "1234\n",
      "12345\n",
      "123456\n",
      "1234567\n",
      "12345678\n",
      "123456789\n",
      "12345678910\n",
      "1234567891011\n",
      "12345678910\n",
      "1234567891\n",
      "123456789\n",
      "12345678\n",
      "1234567\n",
      "123456\n",
      "12345\n",
      "1234\n",
      "123\n",
      "12\n",
      "1\n"
     ]
    }
   ],
   "source": [
    "makePattern1()"
   ]
  },
  {
   "cell_type": "code",
   "execution_count": 43,
   "metadata": {},
   "outputs": [],
   "source": [
    "#22.Pattern # 2\n",
    "\n",
    "def star_pattern():\n",
    "    \n",
    "    n = int(input(\"Enter Length: \"))\n",
    "    \n",
    "    for i in range(n):\n",
    "        \n",
    "        for j in range(i):\n",
    "            print(\"*\",end=\"\")\n",
    "        print(\"\")    \n",
    "    \n",
    "    for i in range(n,0,-1):\n",
    "        \n",
    "        for j in range(i):\n",
    "            print(\"*\",end=\"\")\n",
    "        print(\"\")"
   ]
  },
  {
   "cell_type": "code",
   "execution_count": 44,
   "metadata": {},
   "outputs": [
    {
     "name": "stdout",
     "output_type": "stream",
     "text": [
      "Enter Length: 23\n",
      "\n",
      "*\n",
      "**\n",
      "***\n",
      "****\n",
      "*****\n",
      "******\n",
      "*******\n",
      "********\n",
      "*********\n",
      "**********\n",
      "***********\n",
      "************\n",
      "*************\n",
      "**************\n",
      "***************\n",
      "****************\n",
      "*****************\n",
      "******************\n",
      "*******************\n",
      "********************\n",
      "*********************\n",
      "**********************\n",
      "***********************\n",
      "**********************\n",
      "*********************\n",
      "********************\n",
      "*******************\n",
      "******************\n",
      "*****************\n",
      "****************\n",
      "***************\n",
      "**************\n",
      "*************\n",
      "************\n",
      "***********\n",
      "**********\n",
      "*********\n",
      "********\n",
      "*******\n",
      "******\n",
      "*****\n",
      "****\n",
      "***\n",
      "**\n",
      "*\n"
     ]
    }
   ],
   "source": [
    "star_pattern()"
   ]
  },
  {
   "cell_type": "code",
   "execution_count": 45,
   "metadata": {},
   "outputs": [],
   "source": [
    "#23.Pattern # 3\n",
    "def makePattern3():\n",
    "\n",
    "    length = input(\"Length: \")\n",
    "\n",
    "    temp = \"\"\n",
    "    temp2 = \"\"\n",
    "\n",
    "    for x in range(1, int(length)):\n",
    "        temp += str(x)\n",
    "        print(temp)"
   ]
  },
  {
   "cell_type": "code",
   "execution_count": 46,
   "metadata": {},
   "outputs": [
    {
     "name": "stdout",
     "output_type": "stream",
     "text": [
      "Length: 12\n",
      "1\n",
      "12\n",
      "123\n",
      "1234\n",
      "12345\n",
      "123456\n",
      "1234567\n",
      "12345678\n",
      "123456789\n",
      "12345678910\n",
      "1234567891011\n"
     ]
    }
   ],
   "source": [
    "makePattern3()"
   ]
  },
  {
   "cell_type": "code",
   "execution_count": null,
   "metadata": {},
   "outputs": [],
   "source": []
  }
 ],
 "metadata": {
  "kernelspec": {
   "display_name": "Python 3",
   "language": "python",
   "name": "python3"
  },
  "language_info": {
   "codemirror_mode": {
    "name": "ipython",
    "version": 3
   },
   "file_extension": ".py",
   "mimetype": "text/x-python",
   "name": "python",
   "nbconvert_exporter": "python",
   "pygments_lexer": "ipython3",
   "version": "3.7.3"
  }
 },
 "nbformat": 4,
 "nbformat_minor": 2
}
